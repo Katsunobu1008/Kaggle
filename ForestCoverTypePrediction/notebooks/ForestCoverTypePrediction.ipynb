{
 "cells": [
  {
   "cell_type": "markdown",
   "metadata": {},
   "source": [
    "# コンペの概要\n",
    "## 1.1 テーマ\n",
    "　　目的：与えられた地形や環境などの特徴量から森林の被覆タイプ（Cover_Type）を予測すること\n",
    "　　背景: アメリカ・コロラド州のロースベルト国有林を対象にした地理空間データがベース。30m×30mの区画ごとに、「どの種類の森林カバーが主に存在しているか？」を7種類の中から当てる。\n",
    "## 1.2 データセット\n",
    "- カラム（主な特徴量）:\n",
    "  - Elevation (標高): メートル単位。地形を大きく左右する要素。\n",
    "  - Aspect (方位角): 0〜360度などで示される斜面の向き。\n",
    "  - Slope (斜度): 傾斜角度（度数）。\n",
    "  - Distance系: 川（Hydrology）、道路（Roadways）、火災発生地点（Fire_Points）からの水平距離/垂直距離など。\n",
    "  - Hillshade系: 日射の当たり方を示す指標（9am, Noon, 3pm それぞれの強度）。\n",
    "  - Wilderness_Area: 4つの原生地域（Wilderness）のどれに該当するかを示すバイナリ列（4列）。\n",
    "  - Soil_Type: 土壌タイプを示すバイナリ列（40列）。1つの区画に複数の可能性がありうるデータ形式ではなく、「このsoil_typeの列が1なら該当」という形。\n",
    "  - Cover_Type (目的変数): 1〜7までの整数で、「どんな森林タイプか」を表す。\n",
    "\n",
    "  ## 1.3 評価指標\n",
    "  - 7種類のクラス（Spruce/Fir, Lodgepole Pine, など）を予測する多クラス分類問題です。\n",
    "  - 評価指標: Multi-class classification accuracy（正解率）。テストセットで予測したラベルが正解ラベルとどれだけ一致したか。\n",
    "\n",
    "  ## データ数\n",
    "  - 学習データ(train): 15120サンプル\n",
    "  - テストデータ(test): 565889サンプル\n",
    "    - テストには目的変数が含まれず、自分で予測した結果をアップロードする"
   ]
  },
  {
   "cell_type": "code",
   "execution_count": null,
   "metadata": {},
   "outputs": [],
   "source": []
  },
  {
   "cell_type": "code",
   "execution_count": null,
   "metadata": {},
   "outputs": [],
   "source": []
  },
  {
   "cell_type": "code",
   "execution_count": null,
   "metadata": {},
   "outputs": [],
   "source": []
  },
  {
   "cell_type": "code",
   "execution_count": null,
   "metadata": {},
   "outputs": [],
   "source": []
  },
  {
   "cell_type": "code",
   "execution_count": null,
   "metadata": {},
   "outputs": [],
   "source": []
  },
  {
   "cell_type": "code",
   "execution_count": null,
   "metadata": {},
   "outputs": [],
   "source": []
  },
  {
   "cell_type": "code",
   "execution_count": null,
   "metadata": {},
   "outputs": [],
   "source": []
  },
  {
   "cell_type": "code",
   "execution_count": null,
   "metadata": {},
   "outputs": [],
   "source": []
  },
  {
   "cell_type": "code",
   "execution_count": null,
   "metadata": {},
   "outputs": [],
   "source": []
  },
  {
   "cell_type": "code",
   "execution_count": null,
   "metadata": {},
   "outputs": [],
   "source": []
  },
  {
   "cell_type": "code",
   "execution_count": null,
   "metadata": {},
   "outputs": [],
   "source": []
  },
  {
   "cell_type": "code",
   "execution_count": null,
   "metadata": {},
   "outputs": [],
   "source": []
  },
  {
   "cell_type": "code",
   "execution_count": null,
   "metadata": {},
   "outputs": [],
   "source": []
  },
  {
   "cell_type": "code",
   "execution_count": null,
   "metadata": {},
   "outputs": [],
   "source": []
  },
  {
   "cell_type": "code",
   "execution_count": null,
   "metadata": {},
   "outputs": [],
   "source": []
  },
  {
   "cell_type": "code",
   "execution_count": null,
   "metadata": {},
   "outputs": [],
   "source": []
  },
  {
   "cell_type": "code",
   "execution_count": null,
   "metadata": {},
   "outputs": [],
   "source": []
  },
  {
   "cell_type": "code",
   "execution_count": null,
   "metadata": {},
   "outputs": [],
   "source": []
  },
  {
   "cell_type": "code",
   "execution_count": null,
   "metadata": {},
   "outputs": [],
   "source": []
  },
  {
   "cell_type": "code",
   "execution_count": null,
   "metadata": {},
   "outputs": [],
   "source": []
  },
  {
   "cell_type": "code",
   "execution_count": null,
   "metadata": {},
   "outputs": [],
   "source": []
  },
  {
   "cell_type": "code",
   "execution_count": null,
   "metadata": {},
   "outputs": [],
   "source": []
  },
  {
   "cell_type": "code",
   "execution_count": null,
   "metadata": {},
   "outputs": [],
   "source": []
  },
  {
   "cell_type": "code",
   "execution_count": null,
   "metadata": {},
   "outputs": [],
   "source": []
  },
  {
   "cell_type": "code",
   "execution_count": null,
   "metadata": {},
   "outputs": [],
   "source": []
  },
  {
   "cell_type": "code",
   "execution_count": null,
   "metadata": {},
   "outputs": [],
   "source": []
  },
  {
   "cell_type": "code",
   "execution_count": null,
   "metadata": {},
   "outputs": [],
   "source": []
  },
  {
   "cell_type": "code",
   "execution_count": null,
   "metadata": {},
   "outputs": [],
   "source": []
  }
 ],
 "metadata": {
  "language_info": {
   "name": "python"
  }
 },
 "nbformat": 4,
 "nbformat_minor": 2
}
